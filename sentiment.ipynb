{
 "cells": [
  {
   "cell_type": "code",
   "execution_count": 1,
   "metadata": {},
   "outputs": [
    {
     "name": "stderr",
     "output_type": "stream",
     "text": [
      "[nltk_data] Downloading package punkt to\n",
      "[nltk_data]     C:\\Users\\Pulkit\\AppData\\Roaming\\nltk_data...\n",
      "[nltk_data]   Package punkt is already up-to-date!\n",
      "[nltk_data] Downloading package stopwords to\n",
      "[nltk_data]     C:\\Users\\Pulkit\\AppData\\Roaming\\nltk_data...\n",
      "[nltk_data]   Package stopwords is already up-to-date!\n",
      "[nltk_data] Downloading package wordnet to\n",
      "[nltk_data]     C:\\Users\\Pulkit\\AppData\\Roaming\\nltk_data...\n",
      "[nltk_data]   Package wordnet is already up-to-date!\n"
     ]
    },
    {
     "data": {
      "text/plain": [
       "True"
      ]
     },
     "execution_count": 1,
     "metadata": {},
     "output_type": "execute_result"
    }
   ],
   "source": [
    "# Import necessary libraries\n",
    "import pandas as pd\n",
    "from sklearn.feature_extraction.text import TfidfVectorizer\n",
    "from sklearn.model_selection import train_test_split\n",
    "from sklearn.linear_model import LogisticRegression\n",
    "from sklearn.metrics import classification_report\n",
    "import nltk\n",
    "from nltk.tokenize import word_tokenize\n",
    "from nltk.corpus import stopwords\n",
    "from nltk.stem import WordNetLemmatizer\n",
    "\n",
    "# Download NLTK data\n",
    "nltk.download('punkt')\n",
    "nltk.download('stopwords')\n",
    "nltk.download('wordnet')"
   ]
  },
  {
   "cell_type": "code",
   "execution_count": 2,
   "metadata": {},
   "outputs": [],
   "source": [
    "df = pd.read_csv('movies.csv')\n"
   ]
  },
  {
   "cell_type": "code",
   "execution_count": 3,
   "metadata": {},
   "outputs": [
    {
     "data": {
      "text/html": [
       "<div>\n",
       "<style scoped>\n",
       "    .dataframe tbody tr th:only-of-type {\n",
       "        vertical-align: middle;\n",
       "    }\n",
       "\n",
       "    .dataframe tbody tr th {\n",
       "        vertical-align: top;\n",
       "    }\n",
       "\n",
       "    .dataframe thead th {\n",
       "        text-align: right;\n",
       "    }\n",
       "</style>\n",
       "<table border=\"1\" class=\"dataframe\">\n",
       "  <thead>\n",
       "    <tr style=\"text-align: right;\">\n",
       "      <th></th>\n",
       "      <th>id</th>\n",
       "      <th>title</th>\n",
       "      <th>year</th>\n",
       "      <th>rating</th>\n",
       "    </tr>\n",
       "  </thead>\n",
       "  <tbody>\n",
       "    <tr>\n",
       "      <th>0</th>\n",
       "      <td>872906</td>\n",
       "      <td>Jawan</td>\n",
       "      <td>2023.0</td>\n",
       "      <td>7.3</td>\n",
       "    </tr>\n",
       "    <tr>\n",
       "      <th>1</th>\n",
       "      <td>554600</td>\n",
       "      <td>Uri: The Surgical Strike</td>\n",
       "      <td>2019.0</td>\n",
       "      <td>7.2</td>\n",
       "    </tr>\n",
       "    <tr>\n",
       "      <th>2</th>\n",
       "      <td>781732</td>\n",
       "      <td>Animal</td>\n",
       "      <td>2023.0</td>\n",
       "      <td>7.4</td>\n",
       "    </tr>\n",
       "    <tr>\n",
       "      <th>3</th>\n",
       "      <td>975533</td>\n",
       "      <td>The Archies</td>\n",
       "      <td>2023.0</td>\n",
       "      <td>7.1</td>\n",
       "    </tr>\n",
       "    <tr>\n",
       "      <th>4</th>\n",
       "      <td>734253</td>\n",
       "      <td>Adipurush</td>\n",
       "      <td>2023.0</td>\n",
       "      <td>5.3</td>\n",
       "    </tr>\n",
       "  </tbody>\n",
       "</table>\n",
       "</div>"
      ],
      "text/plain": [
       "       id                     title    year  rating\n",
       "0  872906                     Jawan  2023.0     7.3\n",
       "1  554600  Uri: The Surgical Strike  2019.0     7.2\n",
       "2  781732                    Animal  2023.0     7.4\n",
       "3  975533               The Archies  2023.0     7.1\n",
       "4  734253                 Adipurush  2023.0     5.3"
      ]
     },
     "execution_count": 3,
     "metadata": {},
     "output_type": "execute_result"
    }
   ],
   "source": [
    "df.head(5)"
   ]
  },
  {
   "cell_type": "code",
   "execution_count": 4,
   "metadata": {},
   "outputs": [],
   "source": [
    "def categorize_rating(rating):\n",
    "    if rating > 7:\n",
    "        return 'Good'\n",
    "    elif 4.5 <= rating <= 6.9:\n",
    "        return 'Neutral'\n",
    "    else:\n",
    "        return 'Bad'\n",
    "\n",
    "# Apply the function to the 'rating' column to create a new 'rating_category' column\n",
    "df['rating_category'] = df['rating'].apply(categorize_rating)\n"
   ]
  },
  {
   "cell_type": "code",
   "execution_count": 5,
   "metadata": {},
   "outputs": [
    {
     "data": {
      "text/html": [
       "<div>\n",
       "<style scoped>\n",
       "    .dataframe tbody tr th:only-of-type {\n",
       "        vertical-align: middle;\n",
       "    }\n",
       "\n",
       "    .dataframe tbody tr th {\n",
       "        vertical-align: top;\n",
       "    }\n",
       "\n",
       "    .dataframe thead th {\n",
       "        text-align: right;\n",
       "    }\n",
       "</style>\n",
       "<table border=\"1\" class=\"dataframe\">\n",
       "  <thead>\n",
       "    <tr style=\"text-align: right;\">\n",
       "      <th></th>\n",
       "      <th>id</th>\n",
       "      <th>title</th>\n",
       "      <th>year</th>\n",
       "      <th>rating</th>\n",
       "      <th>rating_category</th>\n",
       "    </tr>\n",
       "  </thead>\n",
       "  <tbody>\n",
       "    <tr>\n",
       "      <th>0</th>\n",
       "      <td>872906</td>\n",
       "      <td>Jawan</td>\n",
       "      <td>2023.0</td>\n",
       "      <td>7.3</td>\n",
       "      <td>Good</td>\n",
       "    </tr>\n",
       "    <tr>\n",
       "      <th>1</th>\n",
       "      <td>554600</td>\n",
       "      <td>Uri: The Surgical Strike</td>\n",
       "      <td>2019.0</td>\n",
       "      <td>7.2</td>\n",
       "      <td>Good</td>\n",
       "    </tr>\n",
       "    <tr>\n",
       "      <th>2</th>\n",
       "      <td>781732</td>\n",
       "      <td>Animal</td>\n",
       "      <td>2023.0</td>\n",
       "      <td>7.4</td>\n",
       "      <td>Good</td>\n",
       "    </tr>\n",
       "    <tr>\n",
       "      <th>3</th>\n",
       "      <td>975533</td>\n",
       "      <td>The Archies</td>\n",
       "      <td>2023.0</td>\n",
       "      <td>7.1</td>\n",
       "      <td>Good</td>\n",
       "    </tr>\n",
       "    <tr>\n",
       "      <th>4</th>\n",
       "      <td>734253</td>\n",
       "      <td>Adipurush</td>\n",
       "      <td>2023.0</td>\n",
       "      <td>5.3</td>\n",
       "      <td>Neutral</td>\n",
       "    </tr>\n",
       "  </tbody>\n",
       "</table>\n",
       "</div>"
      ],
      "text/plain": [
       "       id                     title    year  rating rating_category\n",
       "0  872906                     Jawan  2023.0     7.3            Good\n",
       "1  554600  Uri: The Surgical Strike  2019.0     7.2            Good\n",
       "2  781732                    Animal  2023.0     7.4            Good\n",
       "3  975533               The Archies  2023.0     7.1            Good\n",
       "4  734253                 Adipurush  2023.0     5.3         Neutral"
      ]
     },
     "execution_count": 5,
     "metadata": {},
     "output_type": "execute_result"
    }
   ],
   "source": [
    "df.head(5)"
   ]
  },
  {
   "cell_type": "code",
   "execution_count": 10,
   "metadata": {},
   "outputs": [],
   "source": [
    "def preprocess_text(text):\n",
    "    # Tokenization\n",
    "    tokens = word_tokenize(str(text).lower())\n",
    "    \n",
    "    # Remove stopwords and non-alphabetic tokens\n",
    "    stop_words = set(stopwords.words('english'))\n",
    "    tokens = [token for token in tokens if token.isalpha() and token not in stop_words]\n",
    "    \n",
    "    # Lemmatization\n",
    "    lemmatizer = WordNetLemmatizer()\n",
    "    tokens = [lemmatizer.lemmatize(token) for token in tokens]\n",
    "    \n",
    "    return ' '.join(tokens)\n",
    "\n",
    "# Apply text preprocessing to the 'title' column (adjust if needed for another column)\n",
    "df['processed_text'] = df['title'].apply(preprocess_text)\n"
   ]
  },
  {
   "cell_type": "code",
   "execution_count": 11,
   "metadata": {},
   "outputs": [
    {
     "name": "stdout",
     "output_type": "stream",
     "text": [
      "          id                     title       processed_text\n",
      "0     872906                     Jawan                jawan\n",
      "1     554600  Uri: The Surgical Strike  uri surgical strike\n",
      "2     781732                    Animal               animal\n",
      "3     975533               The Archies              archies\n",
      "4     734253                 Adipurush            adipurush\n",
      "...      ...                       ...                  ...\n",
      "7414   72079          Little Terrorist     little terrorist\n",
      "7415   55820           Chhuppa Chhuppi      chhuppa chhuppi\n",
      "7416   54098                   Soch Lo              soch lo\n",
      "7417   46402        Kisse Pyaar Karoon   kisse pyaar karoon\n",
      "7418   21757                      Toss                 toss\n",
      "\n",
      "[7419 rows x 3 columns]\n"
     ]
    }
   ],
   "source": [
    "print(df[['id', 'title', 'processed_text']])"
   ]
  },
  {
   "cell_type": "code",
   "execution_count": 21,
   "metadata": {},
   "outputs": [],
   "source": [
    "\n",
    "# Feature extraction: TF-IDF for the movie title and adding the 'ratings' as a feature\n",
    "vectorizer = TfidfVectorizer(max_features=1000)\n",
    "X_title = vectorizer.fit_transform(df['processed_text'])\n",
    "\n",
    "# Adding 'ratings' as a numerical feature to the dataset\n",
    "import numpy as np\n",
    "X_ratings = np.array(df['rating']).reshape(-1, 1)\n",
    "\n",
    "# Combine TF-IDF features and ratings (concatenating the matrices)\n",
    "from scipy.sparse import hstack\n",
    "X = hstack([X_title, X_ratings])\n",
    "\n",
    "# Labels (rating category)\n",
    "y = df['rating_category']\n",
    "\n",
    "# Split the data into train and test sets\n",
    "X_train, X_test, y_train, y_test = train_test_split(X, y, test_size=0.2, random_state=42)"
   ]
  },
  {
   "cell_type": "code",
   "execution_count": 22,
   "metadata": {},
   "outputs": [
    {
     "name": "stdout",
     "output_type": "stream",
     "text": [
      "              precision    recall  f1-score   support\n",
      "\n",
      "         Bad       0.99      0.92      0.95       856\n",
      "        Good       1.00      0.95      0.98       176\n",
      "     Neutral       0.85      0.97      0.91       452\n",
      "\n",
      "    accuracy                           0.94      1484\n",
      "   macro avg       0.95      0.95      0.95      1484\n",
      "weighted avg       0.95      0.94      0.94      1484\n",
      "\n"
     ]
    },
    {
     "name": "stderr",
     "output_type": "stream",
     "text": [
      "C:\\Users\\Pulkit\\AppData\\Local\\Packages\\PythonSoftwareFoundation.Python.3.11_qbz5n2kfra8p0\\LocalCache\\local-packages\\Python311\\site-packages\\sklearn\\linear_model\\_logistic.py:460: ConvergenceWarning: lbfgs failed to converge (status=1):\n",
      "STOP: TOTAL NO. of ITERATIONS REACHED LIMIT.\n",
      "\n",
      "Increase the number of iterations (max_iter) or scale the data as shown in:\n",
      "    https://scikit-learn.org/stable/modules/preprocessing.html\n",
      "Please also refer to the documentation for alternative solver options:\n",
      "    https://scikit-learn.org/stable/modules/linear_model.html#logistic-regression\n",
      "  n_iter_i = _check_optimize_result(\n"
     ]
    }
   ],
   "source": [
    "# Train the model (Logistic Regression)\n",
    "model = LogisticRegression()\n",
    "model.fit(X_train, y_train)\n",
    "\n",
    "# Make predictions\n",
    "y_pred = model.predict(X_test)\n",
    "\n",
    "# Print classification report\n",
    "print(classification_report(y_test, y_pred))\n"
   ]
  },
  {
   "cell_type": "code",
   "execution_count": 45,
   "metadata": {},
   "outputs": [],
   "source": [
    "# Function to predict the rating category for a movie using the movie title\n",
    "def predict_rating_category_from_dataset(title, df):\n",
    "    # Check if the movie title exists in the dataset\n",
    "    movie_data = df[df['title'].str.contains(title, case=False, na=False)]\n",
    "    \n",
    "    # If movie is found in the dataset\n",
    "    if not movie_data.empty:\n",
    "        # Extract the rating from the dataset and convert it to a numeric value\n",
    "        rating = pd.to_numeric(movie_data.iloc[0]['rating'], errors='coerce')  # Convert to numeric\n",
    "        \n",
    "        # If rating is not NaN (i.e., valid rating value)\n",
    "        if not pd.isna(rating):\n",
    "            # Predict the category based on the rating\n",
    "            if rating >= 7:\n",
    "                return \"Good\"\n",
    "            elif 5 <= rating < 7:\n",
    "                return \"Neutral\"\n",
    "            else:\n",
    "                return \"Bad\"\n",
    "        else:\n",
    "            return \"Invalid rating data\"\n",
    "    else:\n",
    "        return \"Movie not found in dataset\""
   ]
  },
  {
   "cell_type": "code",
   "execution_count": 46,
   "metadata": {},
   "outputs": [
    {
     "name": "stdout",
     "output_type": "stream",
     "text": [
      "Predicted category for 'Phobia': Good\n"
     ]
    }
   ],
   "source": [
    "# Test prediction for a new movie (only providing the title)\n",
    "test_title = \"Phobia\"  # Movie name\n",
    "predicted_category = predict_rating_category_from_dataset(test_title, df)\n",
    "\n",
    "# Display the result\n",
    "print(f\"Predicted category for '{test_title}': {predicted_category}\")"
   ]
  },
  {
   "cell_type": "code",
   "execution_count": null,
   "metadata": {},
   "outputs": [],
   "source": []
  }
 ],
 "metadata": {
  "kernelspec": {
   "display_name": "Python 3",
   "language": "python",
   "name": "python3"
  },
  "language_info": {
   "codemirror_mode": {
    "name": "ipython",
    "version": 3
   },
   "file_extension": ".py",
   "mimetype": "text/x-python",
   "name": "python",
   "nbconvert_exporter": "python",
   "pygments_lexer": "ipython3",
   "version": "3.11.9"
  }
 },
 "nbformat": 4,
 "nbformat_minor": 2
}
